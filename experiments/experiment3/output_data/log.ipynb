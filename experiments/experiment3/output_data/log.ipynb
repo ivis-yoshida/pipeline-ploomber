{
 "cells": [
  {
   "cell_type": "code",
   "execution_count": 1,
   "id": "714824e3",
   "metadata": {
    "execution": {
     "iopub.execute_input": "2022-01-04T08:42:53.789815Z",
     "iopub.status.busy": "2022-01-04T08:42:53.789332Z",
     "iopub.status.idle": "2022-01-04T08:42:53.791973Z",
     "shell.execute_reply": "2022-01-04T08:42:53.792347Z"
    },
    "papermill": {
     "duration": 0.018542,
     "end_time": "2022-01-04T08:42:53.792621",
     "exception": false,
     "start_time": "2022-01-04T08:42:53.774079",
     "status": "completed"
    },
    "tags": [
     "parameters"
    ]
   },
   "outputs": [],
   "source": [
    "upstream =['experiment1', 'experiment2']\n",
    "product = None"
   ]
  },
  {
   "cell_type": "code",
   "execution_count": 2,
   "id": "f4176a66",
   "metadata": {
    "execution": {
     "iopub.execute_input": "2022-01-04T08:42:53.810949Z",
     "iopub.status.busy": "2022-01-04T08:42:53.810478Z",
     "iopub.status.idle": "2022-01-04T08:42:53.812416Z",
     "shell.execute_reply": "2022-01-04T08:42:53.812835Z"
    },
    "papermill": {
     "duration": 0.012855,
     "end_time": "2022-01-04T08:42:53.812968",
     "exception": false,
     "start_time": "2022-01-04T08:42:53.800113",
     "status": "completed"
    },
    "tags": [
     "injected-parameters"
    ]
   },
   "outputs": [],
   "source": [
    "# Parameters\n",
    "upstream = {\n",
    "    \"experiment1\": {\n",
    "        \"nb\": \"/home/jovyan/experiments/experiment1/output_data/log.ipynb\",\n",
    "        \"data\": \"/home/jovyan/experiments/experiment1/output_data/output.csv\",\n",
    "    },\n",
    "    \"experiment2\": {\n",
    "        \"nb\": \"/home/jovyan/experiments/experiment2/output_data/log.ipynb\",\n",
    "        \"data\": \"/home/jovyan/experiments/experiment2/output_data/output.csv\",\n",
    "    },\n",
    "}\n",
    "product = {\n",
    "    \"nb\": \"/home/jovyan/experiments/experiment3/output_data/log.ipynb\",\n",
    "    \"data\": \"/home/jovyan/experiments/experiment3/output_data/output.csv\",\n",
    "}\n"
   ]
  },
  {
   "cell_type": "code",
   "execution_count": 3,
   "id": "71a0821e",
   "metadata": {
    "execution": {
     "iopub.execute_input": "2022-01-04T08:42:53.832773Z",
     "iopub.status.busy": "2022-01-04T08:42:53.832023Z",
     "iopub.status.idle": "2022-01-04T08:42:53.836325Z",
     "shell.execute_reply": "2022-01-04T08:42:53.835857Z"
    },
    "papermill": {
     "duration": 0.01644,
     "end_time": "2022-01-04T08:42:53.836438",
     "exception": false,
     "start_time": "2022-01-04T08:42:53.819998",
     "status": "completed"
    },
    "tags": []
   },
   "outputs": [],
   "source": [
    "import os\n",
    "import csv\n",
    "\n",
    "with open(upstream['experiment1']['data'], 'r') as f:\n",
    "    reader = csv.reader(f)\n",
    "    line_a = [row for row in reader]\n",
    "\n",
    "with open(upstream['experiment2']['data'], 'r') as f:\n",
    "    reader = csv.reader(f, delimiter='｜')\n",
    "    line_b = [row for row in reader]\n",
    "\n",
    "with open(product['data'], mode='w') as f:\n",
    "    writer = csv.writer(f, delimiter='／')\n",
    "    writer.writerows(line_b)\n",
    "    writer.writerow(line_a[2])\n",
    "    writer.writerow([13101,\"1010032\",\"ﾄｳｷｮｳﾄ\",\"ﾁﾖﾀﾞｸ\",\"ｲﾜﾓﾄﾁｮｳ\",\"東京都\",\"千代田区\",\"岩本町\"])"
   ]
  },
  {
   "cell_type": "code",
   "execution_count": null,
   "id": "2fca5c87",
   "metadata": {
    "papermill": {
     "duration": 0.007679,
     "end_time": "2022-01-04T08:42:53.851610",
     "exception": false,
     "start_time": "2022-01-04T08:42:53.843931",
     "status": "completed"
    },
    "tags": []
   },
   "outputs": [],
   "source": []
  }
 ],
 "metadata": {
  "celltoolbar": "Tags",
  "kernelspec": {
   "display_name": "Python 3 (ipykernel)",
   "language": "python",
   "name": "python3"
  },
  "language_info": {
   "codemirror_mode": {
    "name": "ipython",
    "version": 3
   },
   "file_extension": ".py",
   "mimetype": "text/x-python",
   "name": "python",
   "nbconvert_exporter": "python",
   "pygments_lexer": "ipython3",
   "version": "3.8.12"
  },
  "papermill": {
   "duration": 1.190461,
   "end_time": "2022-01-04T08:42:54.065750",
   "exception": null,
   "input_path": "/tmp/tmpzkglzmzp.ipynb",
   "output_path": "/home/jovyan/experiments/experiment3/output_data/log.ipynb",
   "parameters": {
    "product": {
     "data": "/home/jovyan/experiments/experiment3/output_data/output.csv",
     "nb": "/home/jovyan/experiments/experiment3/output_data/log.ipynb"
    },
    "upstream": {
     "experiment1": {
      "data": "/home/jovyan/experiments/experiment1/output_data/output.csv",
      "nb": "/home/jovyan/experiments/experiment1/output_data/log.ipynb"
     },
     "experiment2": {
      "data": "/home/jovyan/experiments/experiment2/output_data/output.csv",
      "nb": "/home/jovyan/experiments/experiment2/output_data/log.ipynb"
     }
    }
   },
   "start_time": "2022-01-04T08:42:52.875289"
  }
 },
 "nbformat": 4,
 "nbformat_minor": 5
}