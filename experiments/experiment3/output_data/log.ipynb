{
 "cells": [
  {
   "cell_type": "code",
   "execution_count": 1,
   "id": "714824e3",
   "metadata": {
    "execution": {
     "iopub.execute_input": "2022-01-04T08:25:03.670063Z",
     "iopub.status.busy": "2022-01-04T08:25:03.661554Z",
     "iopub.status.idle": "2022-01-04T08:25:03.673834Z",
     "shell.execute_reply": "2022-01-04T08:25:03.673237Z"
    },
    "papermill": {
     "duration": 0.028786,
     "end_time": "2022-01-04T08:25:03.674067",
     "exception": false,
     "start_time": "2022-01-04T08:25:03.645281",
     "status": "completed"
    },
    "tags": [
     "parameters"
    ]
   },
   "outputs": [],
   "source": [
    "upstream =['experiment1', 'experiment2']\n",
    "product = None"
   ]
  },
  {
   "cell_type": "code",
   "execution_count": 2,
   "id": "60d14b42",
   "metadata": {
    "execution": {
     "iopub.execute_input": "2022-01-04T08:25:03.701710Z",
     "iopub.status.busy": "2022-01-04T08:25:03.700896Z",
     "iopub.status.idle": "2022-01-04T08:25:03.705713Z",
     "shell.execute_reply": "2022-01-04T08:25:03.705107Z"
    },
    "papermill": {
     "duration": 0.020742,
     "end_time": "2022-01-04T08:25:03.705896",
     "exception": false,
     "start_time": "2022-01-04T08:25:03.685154",
     "status": "completed"
    },
    "tags": [
     "injected-parameters"
    ]
   },
   "outputs": [],
   "source": [
    "# Parameters\n",
    "upstream = {\n",
    "    \"experiment1\": {\n",
    "        \"nb\": \"/home/jovyan/experiments/experiment1/output_data/log.ipynb\",\n",
    "        \"data\": \"/home/jovyan/experiments/experiment1/output_data/output.csv\",\n",
    "    },\n",
    "    \"experiment2\": {\n",
    "        \"nb\": \"/home/jovyan/experiments/experiment2/output_data/log.ipynb\",\n",
    "        \"data\": \"/home/jovyan/experiments/experiment2/output_data/output.csv\",\n",
    "    },\n",
    "}\n",
    "product = {\n",
    "    \"nb\": \"/home/jovyan/experiments/experiment3/output_data/log.ipynb\",\n",
    "    \"data\": \"/home/jovyan/experiments/experiment3/output_data/output.csv\",\n",
    "}\n"
   ]
  },
  {
   "cell_type": "code",
   "execution_count": 3,
   "id": "71a0821e",
   "metadata": {
    "execution": {
     "iopub.execute_input": "2022-01-04T08:25:03.743997Z",
     "iopub.status.busy": "2022-01-04T08:25:03.743013Z",
     "iopub.status.idle": "2022-01-04T08:25:03.748407Z",
     "shell.execute_reply": "2022-01-04T08:25:03.749098Z"
    },
    "papermill": {
     "duration": 0.029469,
     "end_time": "2022-01-04T08:25:03.749337",
     "exception": false,
     "start_time": "2022-01-04T08:25:03.719868",
     "status": "completed"
    },
    "tags": []
   },
   "outputs": [],
   "source": [
    "import os\n",
    "import csv\n",
    "\n",
    "with open(upstream['experiment1']['data'], 'r') as f:\n",
    "    reader = csv.reader(f)\n",
    "    line_a = [row for row in reader]\n",
    "\n",
    "with open(upstream['experiment2']['data'], 'r') as f:\n",
    "    reader = csv.reader(f, delimiter='｜')\n",
    "    line_b = [row for row in reader]\n",
    "\n",
    "with open(product['data'], mode='w') as f:\n",
    "    writer = csv.writer(f, delimiter='／')\n",
    "    writer.writerows(line_b)\n",
    "    writer.writerow(line_a[2])\n",
    "    writer.writerow([13101,\"1010032\",\"ﾄｳｷｮｳﾄ\",\"ﾁﾖﾀﾞｸ\",\"ｲﾜﾓﾄﾁｮｳ\",\"東京都\",\"千代田区\",\"岩本町\"])"
   ]
  },
  {
   "cell_type": "code",
   "execution_count": null,
   "id": "2fca5c87",
   "metadata": {
    "papermill": {
     "duration": 0.010863,
     "end_time": "2022-01-04T08:25:03.773251",
     "exception": false,
     "start_time": "2022-01-04T08:25:03.762388",
     "status": "completed"
    },
    "tags": []
   },
   "outputs": [],
   "source": []
  }
 ],
 "metadata": {
  "celltoolbar": "Tags",
  "kernelspec": {
   "display_name": "Python 3 (ipykernel)",
   "language": "python",
   "name": "python3"
  },
  "language_info": {
   "codemirror_mode": {
    "name": "ipython",
    "version": 3
   },
   "file_extension": ".py",
   "mimetype": "text/x-python",
   "name": "python",
   "nbconvert_exporter": "python",
   "pygments_lexer": "ipython3",
   "version": "3.8.12"
  },
  "papermill": {
   "duration": 1.527008,
   "end_time": "2022-01-04T08:25:03.996831",
   "exception": null,
   "input_path": "/tmp/tmpm10iitne.ipynb",
   "output_path": "/home/jovyan/experiments/experiment3/output_data/log.ipynb",
   "parameters": {
    "product": {
     "data": "/home/jovyan/experiments/experiment3/output_data/output.csv",
     "nb": "/home/jovyan/experiments/experiment3/output_data/log.ipynb"
    },
    "upstream": {
     "experiment1": {
      "data": "/home/jovyan/experiments/experiment1/output_data/output.csv",
      "nb": "/home/jovyan/experiments/experiment1/output_data/log.ipynb"
     },
     "experiment2": {
      "data": "/home/jovyan/experiments/experiment2/output_data/output.csv",
      "nb": "/home/jovyan/experiments/experiment2/output_data/log.ipynb"
     }
    }
   },
   "start_time": "2022-01-04T08:25:02.469823"
  }
 },
 "nbformat": 4,
 "nbformat_minor": 5
}