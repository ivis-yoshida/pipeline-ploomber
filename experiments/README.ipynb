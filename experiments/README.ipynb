{
 "cells": [
  {
   "cell_type": "markdown",
   "id": "79b4d068-3b7a-4717-aa03-8a077b34af9d",
   "metadata": {},
   "source": [
    "# experiments"
   ]
  },
  {
   "cell_type": "markdown",
   "id": "aafc65db-adf6-4ec5-931d-6bae110ec306",
   "metadata": {},
   "source": [
    "## 出力ディレクトリの初期化"
   ]
  },
  {
   "cell_type": "code",
   "execution_count": null,
   "id": "afa61e2f-eb17-4e4a-b233-664f0fd1db00",
   "metadata": {},
   "outputs": [],
   "source": [
    "!rm -rf experiment1/output_data/*\n",
    "!rm -rf experiment2/output_data/*\n",
    "!rm -rf experiment3/output_data/*"
   ]
  },
  {
   "cell_type": "markdown",
   "id": "16195af6-a1d3-4184-ac80-30db7992e48b",
   "metadata": {},
   "source": [
    "## 実験パイプラインの可視化"
   ]
  },
  {
   "cell_type": "code",
   "execution_count": null,
   "id": "a1a00b39",
   "metadata": {},
   "outputs": [],
   "source": [
    "%%sh\n",
    "ploomber plot"
   ]
  },
  {
   "cell_type": "code",
   "execution_count": null,
   "id": "1362d800",
   "metadata": {},
   "outputs": [],
   "source": [
    "from IPython.display import Image\n",
    "Image('pipeline.png')"
   ]
  },
  {
   "cell_type": "markdown",
   "id": "fb4ff00b-83e7-4e33-a59f-c5b91b753bbb",
   "metadata": {},
   "source": [
    "## 実験再現のための環境構築"
   ]
  },
  {
   "cell_type": "code",
   "execution_count": null,
   "id": "77884f90-6889-4427-9c64-fb1712a63fd6",
   "metadata": {},
   "outputs": [],
   "source": [
    "!pip install -r experiment1/requirements.txt\n",
    "!pip install -r experiment2/requirements.txt\n",
    "!pip install -r experiment3/requirements.txt"
   ]
  },
  {
   "cell_type": "markdown",
   "id": "ffebf01d-f98e-4b55-bb07-d0259871772b",
   "metadata": {},
   "source": [
    "## 実験再現"
   ]
  },
  {
   "cell_type": "code",
   "execution_count": null,
   "id": "239a46f6",
   "metadata": {},
   "outputs": [],
   "source": [
    "%%sh\n",
    "ploomber build"
   ]
  }
 ],
 "metadata": {
  "kernelspec": {
   "display_name": "Python 3 (ipykernel)",
   "language": "python",
   "name": "python3"
  },
  "language_info": {
   "codemirror_mode": {
    "name": "ipython",
    "version": 3
   },
   "file_extension": ".py",
   "mimetype": "text/x-python",
   "name": "python",
   "nbconvert_exporter": "python",
   "pygments_lexer": "ipython3",
   "version": "3.8.12"
  }
 },
 "nbformat": 4,
 "nbformat_minor": 5
}
