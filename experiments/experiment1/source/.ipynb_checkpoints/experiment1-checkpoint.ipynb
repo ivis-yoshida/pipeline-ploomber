{
 "cells": [
  {
   "cell_type": "code",
   "execution_count": null,
   "id": "324c970d",
   "metadata": {
    "tags": [
     "parameters"
    ]
   },
   "outputs": [],
   "source": [
    "upstream = None\n",
    "product = None\n",
    "input_csv = None"
   ]
  },
  {
   "cell_type": "code",
   "execution_count": null,
   "id": "aadd6487",
   "metadata": {
    "tags": []
   },
   "outputs": [],
   "source": [
    "import os\n",
    "import csv\n",
    "\n",
    "with open(input_csv, 'r') as f:\n",
    "    reader = csv.reader(f)\n",
    "    line = [row for row in reader]\n",
    "        \n",
    "with open(product['data'], mode='w') as f:\n",
    "    writer = csv.writer(f)\n",
    "    writer.writerow(line[0])\n",
    "    writer.writerow(line[1])\n",
    "    writer.writerow(line[2])"
   ]
  }
 ],
 "metadata": {
  "celltoolbar": "Tags",
  "kernelspec": {
   "display_name": "Python 3 (ipykernel)",
   "language": "python",
   "name": "python3"
  },
  "language_info": {
   "codemirror_mode": {
    "name": "ipython",
    "version": 3
   },
   "file_extension": ".py",
   "mimetype": "text/x-python",
   "name": "python",
   "nbconvert_exporter": "python",
   "pygments_lexer": "ipython3",
   "version": "3.8.12"
  },
  "papermill": {
   "environment_variables": {},
   "parameters": {
    "input_csv": "experiment1/input_data/sample_utf8.csv",
    "product": {
     "data": "/home/jovyan/experiments/experiment1/output_data/output.csv",
     "nb": "/home/jovyan/experiments/experiment1/output_data/log.ipynb"
    }
   },
   "version": null
  }
 },
 "nbformat": 4,
 "nbformat_minor": 5
}
