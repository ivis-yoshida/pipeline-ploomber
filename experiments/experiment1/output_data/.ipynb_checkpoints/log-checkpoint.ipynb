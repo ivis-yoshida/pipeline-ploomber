{
 "cells": [
  {
   "cell_type": "code",
   "execution_count": 1,
   "id": "324c970d",
   "metadata": {
    "execution": {
     "iopub.execute_input": "2022-01-04T07:59:50.745447Z",
     "iopub.status.busy": "2022-01-04T07:59:50.744518Z",
     "iopub.status.idle": "2022-01-04T07:59:50.748422Z",
     "shell.execute_reply": "2022-01-04T07:59:50.748940Z"
    },
    "papermill": {
     "duration": 0.022716,
     "end_time": "2022-01-04T07:59:50.749282",
     "exception": false,
     "start_time": "2022-01-04T07:59:50.726566",
     "status": "completed"
    },
    "tags": [
     "parameters"
    ]
   },
   "outputs": [],
   "source": [
    "upstream = None\n",
    "product = None\n",
    "input_csv = None"
   ]
  },
  {
   "cell_type": "code",
   "execution_count": 2,
   "id": "8050e933",
   "metadata": {
    "execution": {
     "iopub.execute_input": "2022-01-04T07:59:50.770107Z",
     "iopub.status.busy": "2022-01-04T07:59:50.769322Z",
     "iopub.status.idle": "2022-01-04T07:59:50.772093Z",
     "shell.execute_reply": "2022-01-04T07:59:50.771612Z"
    },
    "papermill": {
     "duration": 0.014424,
     "end_time": "2022-01-04T07:59:50.772219",
     "exception": false,
     "start_time": "2022-01-04T07:59:50.757795",
     "status": "completed"
    },
    "tags": [
     "injected-parameters"
    ]
   },
   "outputs": [],
   "source": [
    "# Parameters\n",
    "input_csv = \"experiment1/input_data/sample_utf8.csv\"\n",
    "product = {\n",
    "    \"nb\": \"/home/jovyan/experiments/experiment1/output_data/log.ipynb\",\n",
    "    \"data\": \"/home/jovyan/experiments/experiment1/output_data/output.csv\",\n",
    "}\n"
   ]
  },
  {
   "cell_type": "code",
   "execution_count": 3,
   "id": "aadd6487",
   "metadata": {
    "execution": {
     "iopub.execute_input": "2022-01-04T07:59:50.794097Z",
     "iopub.status.busy": "2022-01-04T07:59:50.793115Z",
     "iopub.status.idle": "2022-01-04T07:59:50.798581Z",
     "shell.execute_reply": "2022-01-04T07:59:50.797991Z"
    },
    "papermill": {
     "duration": 0.019218,
     "end_time": "2022-01-04T07:59:50.798712",
     "exception": false,
     "start_time": "2022-01-04T07:59:50.779494",
     "status": "completed"
    },
    "tags": []
   },
   "outputs": [],
   "source": [
    "import os\n",
    "import csv\n",
    "\n",
    "with open(input_csv, 'r') as f:\n",
    "    reader = csv.reader(f)\n",
    "    line = [row for row in reader]\n",
    "        \n",
    "with open(product['data'], mode='w') as f:\n",
    "    writer = csv.writer(f)\n",
    "    writer.writerow(line[0])\n",
    "    writer.writerow(line[1])\n",
    "    writer.writerow(line[2])"
   ]
  }
 ],
 "metadata": {
  "celltoolbar": "Tags",
  "kernelspec": {
   "display_name": "Python 3 (ipykernel)",
   "language": "python",
   "name": "python3"
  },
  "language_info": {
   "codemirror_mode": {
    "name": "ipython",
    "version": 3
   },
   "file_extension": ".py",
   "mimetype": "text/x-python",
   "name": "python",
   "nbconvert_exporter": "python",
   "pygments_lexer": "ipython3",
   "version": "3.8.12"
  },
  "papermill": {
   "duration": 1.597264,
   "end_time": "2022-01-04T07:59:51.015471",
   "exception": null,
   "input_path": "/tmp/tmplqb5ws96.ipynb",
   "output_path": "/home/jovyan/experiments/experiment1/output_data/log.ipynb",
   "parameters": {
    "input_csv": "experiment1/input_data/sample_utf8.csv",
    "product": {
     "data": "/home/jovyan/experiments/experiment1/output_data/output.csv",
     "nb": "/home/jovyan/experiments/experiment1/output_data/log.ipynb"
    }
   },
   "start_time": "2022-01-04T07:59:49.418207"
  }
 },
 "nbformat": 4,
 "nbformat_minor": 5
}