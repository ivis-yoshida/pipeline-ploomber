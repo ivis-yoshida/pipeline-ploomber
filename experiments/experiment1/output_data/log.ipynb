{
 "cells": [
  {
   "cell_type": "code",
   "execution_count": 1,
   "id": "324c970d",
   "metadata": {
    "execution": {
     "iopub.execute_input": "2022-01-04T08:42:51.389380Z",
     "iopub.status.busy": "2022-01-04T08:42:51.388607Z",
     "iopub.status.idle": "2022-01-04T08:42:51.391124Z",
     "shell.execute_reply": "2022-01-04T08:42:51.391582Z"
    },
    "papermill": {
     "duration": 0.017847,
     "end_time": "2022-01-04T08:42:51.391806",
     "exception": false,
     "start_time": "2022-01-04T08:42:51.373959",
     "status": "completed"
    },
    "tags": [
     "parameters"
    ]
   },
   "outputs": [],
   "source": [
    "upstream = None\n",
    "product = None\n",
    "input_csv = None"
   ]
  },
  {
   "cell_type": "code",
   "execution_count": 2,
   "id": "a33b90ab",
   "metadata": {
    "execution": {
     "iopub.execute_input": "2022-01-04T08:42:51.408034Z",
     "iopub.status.busy": "2022-01-04T08:42:51.407444Z",
     "iopub.status.idle": "2022-01-04T08:42:51.409399Z",
     "shell.execute_reply": "2022-01-04T08:42:51.409768Z"
    },
    "papermill": {
     "duration": 0.01158,
     "end_time": "2022-01-04T08:42:51.409901",
     "exception": false,
     "start_time": "2022-01-04T08:42:51.398321",
     "status": "completed"
    },
    "tags": [
     "injected-parameters"
    ]
   },
   "outputs": [],
   "source": [
    "# Parameters\n",
    "input_csv = \"experiment1/input_data/sample_utf8.csv\"\n",
    "product = {\n",
    "    \"nb\": \"/home/jovyan/experiments/experiment1/output_data/log.ipynb\",\n",
    "    \"data\": \"/home/jovyan/experiments/experiment1/output_data/output.csv\",\n",
    "}\n"
   ]
  },
  {
   "cell_type": "code",
   "execution_count": 3,
   "id": "aadd6487",
   "metadata": {
    "execution": {
     "iopub.execute_input": "2022-01-04T08:42:51.426511Z",
     "iopub.status.busy": "2022-01-04T08:42:51.426037Z",
     "iopub.status.idle": "2022-01-04T08:42:51.430272Z",
     "shell.execute_reply": "2022-01-04T08:42:51.429875Z"
    },
    "papermill": {
     "duration": 0.014561,
     "end_time": "2022-01-04T08:42:51.430376",
     "exception": false,
     "start_time": "2022-01-04T08:42:51.415815",
     "status": "completed"
    },
    "tags": []
   },
   "outputs": [],
   "source": [
    "import os\n",
    "import csv\n",
    "\n",
    "with open(input_csv, 'r') as f:\n",
    "    reader = csv.reader(f)\n",
    "    line = [row for row in reader]\n",
    "        \n",
    "with open(product['data'], mode='w') as f:\n",
    "    writer = csv.writer(f)\n",
    "    writer.writerow(line[0])\n",
    "    writer.writerow(line[1])\n",
    "    writer.writerow(line[2])"
   ]
  }
 ],
 "metadata": {
  "celltoolbar": "Tags",
  "kernelspec": {
   "display_name": "Python 3 (ipykernel)",
   "language": "python",
   "name": "python3"
  },
  "language_info": {
   "codemirror_mode": {
    "name": "ipython",
    "version": 3
   },
   "file_extension": ".py",
   "mimetype": "text/x-python",
   "name": "python",
   "nbconvert_exporter": "python",
   "pygments_lexer": "ipython3",
   "version": "3.8.12"
  },
  "papermill": {
   "duration": 1.142144,
   "end_time": "2022-01-04T08:42:51.643597",
   "exception": null,
   "input_path": "/tmp/tmpp9d0c7qu.ipynb",
   "output_path": "/home/jovyan/experiments/experiment1/output_data/log.ipynb",
   "parameters": {
    "input_csv": "experiment1/input_data/sample_utf8.csv",
    "product": {
     "data": "/home/jovyan/experiments/experiment1/output_data/output.csv",
     "nb": "/home/jovyan/experiments/experiment1/output_data/log.ipynb"
    }
   },
   "start_time": "2022-01-04T08:42:50.501453"
  }
 },
 "nbformat": 4,
 "nbformat_minor": 5
}