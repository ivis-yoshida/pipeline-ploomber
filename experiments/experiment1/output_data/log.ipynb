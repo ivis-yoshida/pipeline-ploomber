{
 "cells": [
  {
   "cell_type": "code",
   "execution_count": 1,
   "id": "324c970d",
   "metadata": {
    "execution": {
     "iopub.execute_input": "2022-01-04T08:25:00.509593Z",
     "iopub.status.busy": "2022-01-04T08:25:00.505671Z",
     "iopub.status.idle": "2022-01-04T08:25:00.510909Z",
     "shell.execute_reply": "2022-01-04T08:25:00.511442Z"
    },
    "papermill": {
     "duration": 0.039954,
     "end_time": "2022-01-04T08:25:00.511724",
     "exception": false,
     "start_time": "2022-01-04T08:25:00.471770",
     "status": "completed"
    },
    "tags": [
     "parameters"
    ]
   },
   "outputs": [],
   "source": [
    "upstream = None\n",
    "product = None\n",
    "input_csv = None"
   ]
  },
  {
   "cell_type": "code",
   "execution_count": 2,
   "id": "09202cba",
   "metadata": {
    "execution": {
     "iopub.execute_input": "2022-01-04T08:25:00.538644Z",
     "iopub.status.busy": "2022-01-04T08:25:00.535745Z",
     "iopub.status.idle": "2022-01-04T08:25:00.539950Z",
     "shell.execute_reply": "2022-01-04T08:25:00.539340Z"
    },
    "papermill": {
     "duration": 0.018362,
     "end_time": "2022-01-04T08:25:00.540086",
     "exception": false,
     "start_time": "2022-01-04T08:25:00.521724",
     "status": "completed"
    },
    "tags": [
     "injected-parameters"
    ]
   },
   "outputs": [],
   "source": [
    "# Parameters\n",
    "input_csv = \"experiment1/input_data/sample_utf8.csv\"\n",
    "product = {\n",
    "    \"nb\": \"/home/jovyan/experiments/experiment1/output_data/log.ipynb\",\n",
    "    \"data\": \"/home/jovyan/experiments/experiment1/output_data/output.csv\",\n",
    "}\n"
   ]
  },
  {
   "cell_type": "code",
   "execution_count": 3,
   "id": "aadd6487",
   "metadata": {
    "execution": {
     "iopub.execute_input": "2022-01-04T08:25:00.567629Z",
     "iopub.status.busy": "2022-01-04T08:25:00.567040Z",
     "iopub.status.idle": "2022-01-04T08:25:00.572563Z",
     "shell.execute_reply": "2022-01-04T08:25:00.573218Z"
    },
    "papermill": {
     "duration": 0.022662,
     "end_time": "2022-01-04T08:25:00.573446",
     "exception": false,
     "start_time": "2022-01-04T08:25:00.550784",
     "status": "completed"
    },
    "tags": []
   },
   "outputs": [],
   "source": [
    "import os\n",
    "import csv\n",
    "\n",
    "with open(input_csv, 'r') as f:\n",
    "    reader = csv.reader(f)\n",
    "    line = [row for row in reader]\n",
    "        \n",
    "with open(product['data'], mode='w') as f:\n",
    "    writer = csv.writer(f)\n",
    "    writer.writerow(line[0])\n",
    "    writer.writerow(line[1])\n",
    "    writer.writerow(line[2])"
   ]
  }
 ],
 "metadata": {
  "celltoolbar": "Tags",
  "kernelspec": {
   "display_name": "Python 3 (ipykernel)",
   "language": "python",
   "name": "python3"
  },
  "language_info": {
   "codemirror_mode": {
    "name": "ipython",
    "version": 3
   },
   "file_extension": ".py",
   "mimetype": "text/x-python",
   "name": "python",
   "nbconvert_exporter": "python",
   "pygments_lexer": "ipython3",
   "version": "3.8.12"
  },
  "papermill": {
   "duration": 1.771287,
   "end_time": "2022-01-04T08:25:00.794773",
   "exception": null,
   "input_path": "/tmp/tmp9mnl3br9.ipynb",
   "output_path": "/home/jovyan/experiments/experiment1/output_data/log.ipynb",
   "parameters": {
    "input_csv": "experiment1/input_data/sample_utf8.csv",
    "product": {
     "data": "/home/jovyan/experiments/experiment1/output_data/output.csv",
     "nb": "/home/jovyan/experiments/experiment1/output_data/log.ipynb"
    }
   },
   "start_time": "2022-01-04T08:24:59.023486"
  }
 },
 "nbformat": 4,
 "nbformat_minor": 5
}