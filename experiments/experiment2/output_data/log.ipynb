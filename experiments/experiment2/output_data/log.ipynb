{
 "cells": [
  {
   "cell_type": "code",
   "execution_count": 1,
   "id": "74e3dabb",
   "metadata": {
    "execution": {
     "iopub.execute_input": "2022-01-04T08:42:52.571944Z",
     "iopub.status.busy": "2022-01-04T08:42:52.571191Z",
     "iopub.status.idle": "2022-01-04T08:42:52.574241Z",
     "shell.execute_reply": "2022-01-04T08:42:52.573755Z"
    },
    "papermill": {
     "duration": 0.018969,
     "end_time": "2022-01-04T08:42:52.574364",
     "exception": false,
     "start_time": "2022-01-04T08:42:52.555395",
     "status": "completed"
    },
    "tags": [
     "parameters"
    ]
   },
   "outputs": [],
   "source": [
    "upstream =['experiment1']\n",
    "product = None"
   ]
  },
  {
   "cell_type": "code",
   "execution_count": 2,
   "id": "c8b0c5e7",
   "metadata": {
    "execution": {
     "iopub.execute_input": "2022-01-04T08:42:52.593254Z",
     "iopub.status.busy": "2022-01-04T08:42:52.592725Z",
     "iopub.status.idle": "2022-01-04T08:42:52.595004Z",
     "shell.execute_reply": "2022-01-04T08:42:52.594602Z"
    },
    "papermill": {
     "duration": 0.013539,
     "end_time": "2022-01-04T08:42:52.595112",
     "exception": false,
     "start_time": "2022-01-04T08:42:52.581573",
     "status": "completed"
    },
    "tags": [
     "injected-parameters"
    ]
   },
   "outputs": [],
   "source": [
    "# Parameters\n",
    "upstream = {\n",
    "    \"experiment1\": {\n",
    "        \"nb\": \"/home/jovyan/experiments/experiment1/output_data/log.ipynb\",\n",
    "        \"data\": \"/home/jovyan/experiments/experiment1/output_data/output.csv\",\n",
    "    }\n",
    "}\n",
    "product = {\n",
    "    \"nb\": \"/home/jovyan/experiments/experiment2/output_data/log.ipynb\",\n",
    "    \"data\": \"/home/jovyan/experiments/experiment2/output_data/output.csv\",\n",
    "}\n"
   ]
  },
  {
   "cell_type": "code",
   "execution_count": 3,
   "id": "efb2e607",
   "metadata": {
    "execution": {
     "iopub.execute_input": "2022-01-04T08:42:52.613217Z",
     "iopub.status.busy": "2022-01-04T08:42:52.612757Z",
     "iopub.status.idle": "2022-01-04T08:42:52.616700Z",
     "shell.execute_reply": "2022-01-04T08:42:52.616305Z"
    },
    "papermill": {
     "duration": 0.01466,
     "end_time": "2022-01-04T08:42:52.616800",
     "exception": false,
     "start_time": "2022-01-04T08:42:52.602140",
     "status": "completed"
    },
    "tags": []
   },
   "outputs": [],
   "source": [
    "import os\n",
    "import csv\n",
    "\n",
    "with open(upstream['experiment1']['data'], 'r') as f:\n",
    "    line = [row for row in csv.reader(f)]\n",
    "\n",
    "with open(product['data'], mode='w') as f:\n",
    "    writer = csv.writer(f, delimiter='｜')\n",
    "    writer.writerows(line)"
   ]
  },
  {
   "cell_type": "code",
   "execution_count": null,
   "id": "9fea4259",
   "metadata": {
    "papermill": {
     "duration": 0.007176,
     "end_time": "2022-01-04T08:42:52.631324",
     "exception": false,
     "start_time": "2022-01-04T08:42:52.624148",
     "status": "completed"
    },
    "tags": []
   },
   "outputs": [],
   "source": []
  }
 ],
 "metadata": {
  "celltoolbar": "Tags",
  "kernelspec": {
   "display_name": "Python 3 (ipykernel)",
   "language": "python",
   "name": "python3"
  },
  "language_info": {
   "codemirror_mode": {
    "name": "ipython",
    "version": 3
   },
   "file_extension": ".py",
   "mimetype": "text/x-python",
   "name": "python",
   "nbconvert_exporter": "python",
   "pygments_lexer": "ipython3",
   "version": "3.8.12"
  },
  "papermill": {
   "duration": 1.180397,
   "end_time": "2022-01-04T08:42:52.846154",
   "exception": null,
   "input_path": "/tmp/tmpu9j5kp02.ipynb",
   "output_path": "/home/jovyan/experiments/experiment2/output_data/log.ipynb",
   "parameters": {
    "product": {
     "data": "/home/jovyan/experiments/experiment2/output_data/output.csv",
     "nb": "/home/jovyan/experiments/experiment2/output_data/log.ipynb"
    },
    "upstream": {
     "experiment1": {
      "data": "/home/jovyan/experiments/experiment1/output_data/output.csv",
      "nb": "/home/jovyan/experiments/experiment1/output_data/log.ipynb"
     }
    }
   },
   "start_time": "2022-01-04T08:42:51.665757"
  }
 },
 "nbformat": 4,
 "nbformat_minor": 5
}