{
 "cells": [
  {
   "cell_type": "code",
   "execution_count": 1,
   "id": "74e3dabb",
   "metadata": {
    "execution": {
     "iopub.execute_input": "2022-01-04T08:25:02.084578Z",
     "iopub.status.busy": "2022-01-04T08:25:02.083666Z",
     "iopub.status.idle": "2022-01-04T08:25:02.090090Z",
     "shell.execute_reply": "2022-01-04T08:25:02.090788Z"
    },
    "papermill": {
     "duration": 0.034684,
     "end_time": "2022-01-04T08:25:02.091383",
     "exception": false,
     "start_time": "2022-01-04T08:25:02.056699",
     "status": "completed"
    },
    "tags": [
     "parameters"
    ]
   },
   "outputs": [],
   "source": [
    "upstream =['experiment1']\n",
    "product = None"
   ]
  },
  {
   "cell_type": "code",
   "execution_count": 2,
   "id": "bf0465a8",
   "metadata": {
    "execution": {
     "iopub.execute_input": "2022-01-04T08:25:02.128979Z",
     "iopub.status.busy": "2022-01-04T08:25:02.122937Z",
     "iopub.status.idle": "2022-01-04T08:25:02.134795Z",
     "shell.execute_reply": "2022-01-04T08:25:02.135834Z"
    },
    "papermill": {
     "duration": 0.03049,
     "end_time": "2022-01-04T08:25:02.136233",
     "exception": false,
     "start_time": "2022-01-04T08:25:02.105743",
     "status": "completed"
    },
    "tags": [
     "injected-parameters"
    ]
   },
   "outputs": [],
   "source": [
    "# Parameters\n",
    "upstream = {\n",
    "    \"experiment1\": {\n",
    "        \"nb\": \"/home/jovyan/experiments/experiment1/output_data/log.ipynb\",\n",
    "        \"data\": \"/home/jovyan/experiments/experiment1/output_data/output.csv\",\n",
    "    }\n",
    "}\n",
    "product = {\n",
    "    \"nb\": \"/home/jovyan/experiments/experiment2/output_data/log.ipynb\",\n",
    "    \"data\": \"/home/jovyan/experiments/experiment2/output_data/output.csv\",\n",
    "}\n"
   ]
  },
  {
   "cell_type": "code",
   "execution_count": 3,
   "id": "efb2e607",
   "metadata": {
    "execution": {
     "iopub.execute_input": "2022-01-04T08:25:02.178622Z",
     "iopub.status.busy": "2022-01-04T08:25:02.168588Z",
     "iopub.status.idle": "2022-01-04T08:25:02.181477Z",
     "shell.execute_reply": "2022-01-04T08:25:02.182013Z"
    },
    "papermill": {
     "duration": 0.030594,
     "end_time": "2022-01-04T08:25:02.182265",
     "exception": false,
     "start_time": "2022-01-04T08:25:02.151671",
     "status": "completed"
    },
    "tags": []
   },
   "outputs": [],
   "source": [
    "import os\n",
    "import csv\n",
    "\n",
    "with open(upstream['experiment1']['data'], 'r') as f:\n",
    "    line = [row for row in csv.reader(f)]\n",
    "\n",
    "with open(product['data'], mode='w') as f:\n",
    "    writer = csv.writer(f, delimiter='｜')\n",
    "    writer.writerows(line)"
   ]
  },
  {
   "cell_type": "code",
   "execution_count": null,
   "id": "9fea4259",
   "metadata": {
    "papermill": {
     "duration": 0.009578,
     "end_time": "2022-01-04T08:25:02.204620",
     "exception": false,
     "start_time": "2022-01-04T08:25:02.195042",
     "status": "completed"
    },
    "tags": []
   },
   "outputs": [],
   "source": []
  }
 ],
 "metadata": {
  "celltoolbar": "Tags",
  "kernelspec": {
   "display_name": "Python 3 (ipykernel)",
   "language": "python",
   "name": "python3"
  },
  "language_info": {
   "codemirror_mode": {
    "name": "ipython",
    "version": 3
   },
   "file_extension": ".py",
   "mimetype": "text/x-python",
   "name": "python",
   "nbconvert_exporter": "python",
   "pygments_lexer": "ipython3",
   "version": "3.8.12"
  },
  "papermill": {
   "duration": 1.590621,
   "end_time": "2022-01-04T08:25:02.425081",
   "exception": null,
   "input_path": "/tmp/tmpoe7i0v_c.ipynb",
   "output_path": "/home/jovyan/experiments/experiment2/output_data/log.ipynb",
   "parameters": {
    "product": {
     "data": "/home/jovyan/experiments/experiment2/output_data/output.csv",
     "nb": "/home/jovyan/experiments/experiment2/output_data/log.ipynb"
    },
    "upstream": {
     "experiment1": {
      "data": "/home/jovyan/experiments/experiment1/output_data/output.csv",
      "nb": "/home/jovyan/experiments/experiment1/output_data/log.ipynb"
     }
    }
   },
   "start_time": "2022-01-04T08:25:00.834460"
  }
 },
 "nbformat": 4,
 "nbformat_minor": 5
}