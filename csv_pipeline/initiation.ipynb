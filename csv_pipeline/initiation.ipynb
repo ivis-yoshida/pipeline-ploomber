{
 "cells": [
  {
   "cell_type": "markdown",
   "id": "14b20cd2",
   "metadata": {},
   "source": [
    "# Binderコンテナ初期化設定用Notebook\n",
    "\n",
    "本ノートブックは、当該リポジトリにおける初回のBinder起動時に限って実行が必要です。"
   ]
  },
  {
   "cell_type": "code",
   "execution_count": null,
   "id": "4d6c0b73",
   "metadata": {},
   "outputs": [],
   "source": [
    "%%sh\n",
    "chmod 600 id_rsa\n",
    "mv id_rsa .ssh/id_rsa"
   ]
  }
 ],
 "metadata": {
  "kernelspec": {
   "display_name": "Python 3",
   "language": "python",
   "name": "python3"
  },
  "language_info": {
   "codemirror_mode": {
    "name": "ipython",
    "version": 3
   },
   "file_extension": ".py",
   "mimetype": "text/x-python",
   "name": "python",
   "nbconvert_exporter": "python",
   "pygments_lexer": "ipython3",
   "version": "3.8.12"
  }
 },
 "nbformat": 4,
 "nbformat_minor": 5
}
