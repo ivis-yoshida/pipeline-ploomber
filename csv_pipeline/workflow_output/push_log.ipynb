{
 "cells": [
  {
   "cell_type": "code",
   "execution_count": 1,
   "id": "ded56fa6",
   "metadata": {
    "execution": {
     "iopub.execute_input": "2021-11-04T00:51:27.749027Z",
     "iopub.status.busy": "2021-11-04T00:51:27.748627Z",
     "iopub.status.idle": "2021-11-04T00:51:27.750223Z",
     "shell.execute_reply": "2021-11-04T00:51:27.750536Z"
    },
    "papermill": {
     "duration": 0.008748,
     "end_time": "2021-11-04T00:51:27.750653",
     "exception": false,
     "start_time": "2021-11-04T00:51:27.741905",
     "status": "completed"
    },
    "tags": [
     "parameters"
    ]
   },
   "outputs": [],
   "source": [
    "upstream = ['code_C']\n",
    "product = None"
   ]
  },
  {
   "cell_type": "code",
   "execution_count": 2,
   "id": "b58884bd",
   "metadata": {
    "execution": {
     "iopub.execute_input": "2021-11-04T00:51:27.760921Z",
     "iopub.status.busy": "2021-11-04T00:51:27.760537Z",
     "iopub.status.idle": "2021-11-04T00:51:27.762427Z",
     "shell.execute_reply": "2021-11-04T00:51:27.762099Z"
    },
    "papermill": {
     "duration": 0.008197,
     "end_time": "2021-11-04T00:51:27.762505",
     "exception": false,
     "start_time": "2021-11-04T00:51:27.754308",
     "status": "completed"
    },
    "tags": [
     "injected-parameters"
    ]
   },
   "outputs": [],
   "source": [
    "# Parameters\n",
    "CWD = \"/home/jovyan\"\n",
    "save_path = \"csv_pipeline\"\n",
    "save_message = \"update: modify on binder\"\n",
    "sibling = \"gin\"\n",
    "sibling_url = \"ssh://root@dg02.dg.rcos.nii.ac.jp:3001/ivis-yoshida/sample-1.git\"\n",
    "upstream = {\n",
    "    \"code_C\": {\n",
    "        \"nb\": \"/home/jovyan/csv_pipeline/output/log_code_C.ipynb\",\n",
    "        \"data\": \"/home/jovyan/csv_pipeline/output/output_C.csv\",\n",
    "    }\n",
    "}\n",
    "product = \"/home/jovyan/csv_pipeline/workflow_output/push_log.ipynb\"\n"
   ]
  },
  {
   "cell_type": "code",
   "execution_count": 3,
   "id": "14ad8853",
   "metadata": {
    "execution": {
     "iopub.execute_input": "2021-11-04T00:51:27.772222Z",
     "iopub.status.busy": "2021-11-04T00:51:27.771834Z",
     "iopub.status.idle": "2021-11-04T00:51:27.773658Z",
     "shell.execute_reply": "2021-11-04T00:51:27.773335Z"
    },
    "papermill": {
     "duration": 0.007776,
     "end_time": "2021-11-04T00:51:27.773733",
     "exception": false,
     "start_time": "2021-11-04T00:51:27.765957",
     "status": "completed"
    },
    "tags": []
   },
   "outputs": [],
   "source": [
    "import os\n",
    "\n",
    "os.chdir(CWD)"
   ]
  },
  {
   "cell_type": "code",
   "execution_count": null,
   "id": "8da28d50",
   "metadata": {
    "papermill": {
     "duration": null,
     "end_time": null,
     "exception": false,
     "start_time": "2021-11-04T00:51:27.777147",
     "status": "running"
    },
    "tags": []
   },
   "outputs": [],
   "source": [
    "from datalad import api\n",
    "\n",
    "api.save(path=save_path, message=save_message)"
   ]
  },
  {
   "cell_type": "code",
   "execution_count": null,
   "id": "451e677c",
   "metadata": {
    "papermill": {
     "duration": null,
     "end_time": null,
     "exception": null,
     "start_time": null,
     "status": "pending"
    },
    "tags": []
   },
   "outputs": [],
   "source": [
    "from datalad import api\n",
    "\n",
    "try:\n",
    "    api.siblings(action='add', name=sibling, url=sibling_url)\n",
    "except:\n",
    "    pass\n",
    "\n",
    "api.push(to=sibling, result_renderer='default')"
   ]
  },
  {
   "cell_type": "code",
   "execution_count": null,
   "id": "02885d96",
   "metadata": {
    "papermill": {
     "duration": null,
     "end_time": null,
     "exception": null,
     "start_time": null,
     "status": "pending"
    },
    "tags": []
   },
   "outputs": [],
   "source": [
    "# from datalad import api\n",
    "\n",
    "# # annexedファイルをアンロックして変更できるようにする\n",
    "# api.unlock(path=save_path, recursive=True)"
   ]
  },
  {
   "cell_type": "code",
   "execution_count": null,
   "id": "042eaaf8",
   "metadata": {
    "papermill": {
     "duration": null,
     "end_time": null,
     "exception": null,
     "start_time": null,
     "status": "pending"
    },
    "tags": []
   },
   "outputs": [],
   "source": [
    "# %%sh\n",
    "# datalad unlock ~/workflow\n",
    "# echo [`TZ='Asia/Tokyo' date`] \"changed\" >> ~/workflow/tt.txt\n",
    "# datalad status | grep tt.txt"
   ]
  },
  {
   "cell_type": "code",
   "execution_count": null,
   "id": "cbb96885",
   "metadata": {
    "papermill": {
     "duration": null,
     "end_time": null,
     "exception": null,
     "start_time": null,
     "status": "pending"
    },
    "tags": []
   },
   "outputs": [],
   "source": [
    "# %%sh\n",
    "# datalad save ~/workflow/tt.txt\n",
    "# datalad save -m 'update: from workflow' ~/workflow/workflow_output/*.log"
   ]
  }
 ],
 "metadata": {
  "celltoolbar": "Tags",
  "kernelspec": {
   "display_name": "Python 3",
   "language": "python",
   "name": "python3"
  },
  "language_info": {
   "codemirror_mode": {
    "name": "ipython",
    "version": 3
   },
   "file_extension": ".py",
   "mimetype": "text/x-python",
   "name": "python",
   "nbconvert_exporter": "python",
   "pygments_lexer": "ipython3",
   "version": "3.8.12"
  },
  "papermill": {
   "duration": null,
   "end_time": null,
   "exception": null,
   "input_path": "/tmp/tmpjib8m8xp.ipynb",
   "output_path": "/home/jovyan/csv_pipeline/workflow_output/push_log.ipynb",
   "parameters": {
    "CWD": "/home/jovyan",
    "product": "/home/jovyan/csv_pipeline/workflow_output/push_log.ipynb",
    "save_message": "update: modify on binder",
    "save_path": "csv_pipeline",
    "sibling": "gin",
    "sibling_url": "ssh://root@dg02.dg.rcos.nii.ac.jp:3001/ivis-yoshida/sample-1.git",
    "upstream": {
     "code_C": {
      "data": "/home/jovyan/csv_pipeline/output/output_C.csv",
      "nb": "/home/jovyan/csv_pipeline/output/log_code_C.ipynb"
     }
    }
   },
   "start_time": "2021-11-04T00:51:27.211796"
  }
 },
 "nbformat": 4,
 "nbformat_minor": 5
}