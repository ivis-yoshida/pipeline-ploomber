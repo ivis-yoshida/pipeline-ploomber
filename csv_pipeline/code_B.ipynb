{
 "cells": [
  {
   "cell_type": "code",
   "execution_count": null,
   "id": "74e3dabb",
   "metadata": {
    "tags": [
     "parameters"
    ]
   },
   "outputs": [],
   "source": [
    "upstream =['code_A']\n",
    "product = None"
   ]
  },
  {
   "cell_type": "code",
   "execution_count": null,
   "id": "efb2e607",
   "metadata": {},
   "outputs": [],
   "source": [
    "import os\n",
    "import csv\n",
    "\n",
    "with open(upstream['code_A']['data'], 'r') as f:\n",
    "    line = [row for row in csv.reader(f)]\n",
    "\n",
    "with open(product['data'], mode='w') as f:\n",
    "    writer = csv.writer(f, delimiter='｜')\n",
    "    writer.writerows(line)"
   ]
  },
  {
   "cell_type": "code",
   "execution_count": null,
   "id": "9fea4259",
   "metadata": {},
   "outputs": [],
   "source": []
  }
 ],
 "metadata": {
  "celltoolbar": "Tags",
  "kernelspec": {
   "display_name": "Python 3",
   "language": "python",
   "name": "python3"
  },
  "language_info": {
   "codemirror_mode": {
    "name": "ipython",
    "version": 3
   },
   "file_extension": ".py",
   "mimetype": "text/x-python",
   "name": "python",
   "nbconvert_exporter": "python",
   "pygments_lexer": "ipython3",
   "version": "3.8.12"
  },
  "papermill": {
   "environment_variables": {},
   "parameters": {
    "product": {
     "data": "/home/jovyan/csv_pipeline/output/output_B.csv",
     "nb": "/home/jovyan/csv_pipeline/output/log_code_B.ipynb"
    },
    "upstream": {
     "code_A": {
      "data": "/home/jovyan/csv_pipeline/output/output_A.csv",
      "nb": "/home/jovyan/csv_pipeline/output/log_code_A.ipynb"
     }
    }
   },
   "version": null
  }
 },
 "nbformat": 4,
 "nbformat_minor": 5
}
