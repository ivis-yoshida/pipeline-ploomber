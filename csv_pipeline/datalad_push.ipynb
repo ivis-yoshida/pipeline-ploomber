{
 "cells": [
  {
   "cell_type": "code",
   "execution_count": null,
   "id": "ded56fa6",
   "metadata": {
    "tags": [
     "parameters"
    ]
   },
   "outputs": [],
   "source": [
    "upstream = ['code_C']\n",
    "product = None"
   ]
  },
  {
   "cell_type": "code",
   "execution_count": null,
   "id": "b67936f6",
   "metadata": {
    "tags": [
     "injected-parameters"
    ]
   },
   "outputs": [],
   "source": [
    "# This cell was injected automatically based on your stated upstream dependencies (cell above) and pipeline.yaml preferences. It is temporary and will be removed when you save this notebook\n",
    "CWD = \"/home/jovyan\"\n",
    "save_path = \"csv_pipeline\"\n",
    "save_message = \"update: modify on binder\"\n",
    "sibling = \"gin\"\n",
    "sibling_url = \"ssh://root@dg02.dg.rcos.nii.ac.jp:3001/ivis-kuwata/sample-1.git\"\n",
    "upstream = {\n",
    "    \"code_C\": {\n",
    "        \"nb\": \"/home/jovyan/csv_pipeline/output/log_code_C.ipynb\",\n",
    "        \"data\": \"/home/jovyan/csv_pipeline/output/output_C.csv\",\n",
    "    }\n",
    "}\n",
    "product = \"/home/jovyan/csv_pipeline/workflow_output/push_log.ipynb\"\n"
   ]
  },
  {
   "cell_type": "code",
   "execution_count": null,
   "id": "14ad8853",
   "metadata": {
    "tags": []
   },
   "outputs": [],
   "source": [
    "import os\n",
    "\n",
    "os.chdir(CWD)"
   ]
  },
  {
   "cell_type": "code",
   "execution_count": null,
   "id": "8da28d50",
   "metadata": {
    "tags": []
   },
   "outputs": [],
   "source": [
    "from datalad import api\n",
    "\n",
    "api.save(path=save_path, message=save_message)"
   ]
  },
  {
   "cell_type": "code",
   "execution_count": null,
   "id": "451e677c",
   "metadata": {
    "tags": []
   },
   "outputs": [],
   "source": [
    "from datalad import api\n",
    "\n",
    "try:\n",
    "    api.siblings(action='add', name=sibling, url=sibling_url)\n",
    "except:\n",
    "    pass\n",
    "\n",
    "api.push(to=sibling, result_renderer='default')"
   ]
  },
  {
   "cell_type": "code",
   "execution_count": null,
   "id": "02885d96",
   "metadata": {
    "tags": []
   },
   "outputs": [],
   "source": [
    "# from datalad import api\n",
    "\n",
    "# # annexedファイルをアンロックして変更できるようにする\n",
    "# api.unlock(path=save_path, recursive=True)"
   ]
  },
  {
   "cell_type": "code",
   "execution_count": null,
   "id": "042eaaf8",
   "metadata": {
    "tags": []
   },
   "outputs": [],
   "source": [
    "# %%sh\n",
    "# datalad unlock ~/workflow\n",
    "# echo [`TZ='Asia/Tokyo' date`] \"changed\" >> ~/workflow/tt.txt\n",
    "# datalad status | grep tt.txt"
   ]
  },
  {
   "cell_type": "code",
   "execution_count": null,
   "id": "cbb96885",
   "metadata": {
    "tags": []
   },
   "outputs": [],
   "source": [
    "# %%sh\n",
    "# datalad save ~/workflow/tt.txt\n",
    "# datalad save -m 'update: from workflow' ~/workflow/workflow_output/*.log"
   ]
  }
 ],
 "metadata": {
  "celltoolbar": "Tags",
  "kernelspec": {
   "display_name": "Python 3",
   "language": "python",
   "name": "python3"
  },
  "language_info": {
   "codemirror_mode": {
    "name": "ipython",
    "version": 3
   },
   "file_extension": ".py",
   "mimetype": "text/x-python",
   "name": "python",
   "nbconvert_exporter": "python",
   "pygments_lexer": "ipython3",
   "version": "3.8.12"
  },
  "papermill": {
   "environment_variables": {},
   "parameters": {
    "CWD": "/home/jovyan",
    "product": "/home/jovyan/csv_pipeline/workflow_output/push_log.ipynb",
    "save_message": "update: modify on binder",
    "save_path": "csv_pipeline",
    "sibling": "gin",
    "sibling_url": "ssh://root@dg02.dg.rcos.nii.ac.jp:3001/ivis-kuwata/sample-1.git",
    "upstream": {
     "code_C": {
      "data": "/home/jovyan/csv_pipeline/output/output_C.csv",
      "nb": "/home/jovyan/csv_pipeline/output/log_code_C.ipynb"
     }
    }
   },
   "version": null
  }
 },
 "nbformat": 4,
 "nbformat_minor": 5
}
