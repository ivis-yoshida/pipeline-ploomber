{
 "cells": [
  {
   "cell_type": "code",
   "execution_count": 1,
   "id": "324c970d",
   "metadata": {
    "execution": {
     "iopub.execute_input": "2021-11-04T00:51:25.305248Z",
     "iopub.status.busy": "2021-11-04T00:51:25.304861Z",
     "iopub.status.idle": "2021-11-04T00:51:25.306240Z",
     "shell.execute_reply": "2021-11-04T00:51:25.306553Z"
    },
    "papermill": {
     "duration": 0.007047,
     "end_time": "2021-11-04T00:51:25.306679",
     "exception": false,
     "start_time": "2021-11-04T00:51:25.299632",
     "status": "completed"
    },
    "tags": [
     "parameters"
    ]
   },
   "outputs": [],
   "source": [
    "upstream = None\n",
    "product = None\n",
    "input_csv = None"
   ]
  },
  {
   "cell_type": "code",
   "execution_count": 2,
   "id": "c8b2cbf3",
   "metadata": {
    "execution": {
     "iopub.execute_input": "2021-11-04T00:51:25.313814Z",
     "iopub.status.busy": "2021-11-04T00:51:25.313488Z",
     "iopub.status.idle": "2021-11-04T00:51:25.314974Z",
     "shell.execute_reply": "2021-11-04T00:51:25.315268Z"
    },
    "papermill": {
     "duration": 0.006034,
     "end_time": "2021-11-04T00:51:25.315346",
     "exception": false,
     "start_time": "2021-11-04T00:51:25.309312",
     "status": "completed"
    },
    "tags": [
     "injected-parameters"
    ]
   },
   "outputs": [],
   "source": [
    "# Parameters\n",
    "input_csv = \"input_data/sample_utf8.csv\"\n",
    "product = {\n",
    "    \"nb\": \"/home/jovyan/csv_pipeline/output/log_code_A.ipynb\",\n",
    "    \"data\": \"/home/jovyan/csv_pipeline/output/output_A.csv\",\n",
    "}\n"
   ]
  },
  {
   "cell_type": "code",
   "execution_count": 3,
   "id": "aadd6487",
   "metadata": {
    "execution": {
     "iopub.execute_input": "2021-11-04T00:51:25.322948Z",
     "iopub.status.busy": "2021-11-04T00:51:25.322554Z",
     "iopub.status.idle": "2021-11-04T00:51:25.325111Z",
     "shell.execute_reply": "2021-11-04T00:51:25.325389Z"
    },
    "papermill": {
     "duration": 0.00801,
     "end_time": "2021-11-04T00:51:25.325466",
     "exception": false,
     "start_time": "2021-11-04T00:51:25.317456",
     "status": "completed"
    },
    "tags": []
   },
   "outputs": [],
   "source": [
    "import os\n",
    "import csv\n",
    "\n",
    "with open(input_csv, 'r') as f:\n",
    "    reader = csv.reader(f)\n",
    "    line = [row for row in reader]\n",
    "        \n",
    "with open(product['data'], mode='w') as f:\n",
    "    writer = csv.writer(f)\n",
    "    writer.writerow(line[0])\n",
    "    writer.writerow(line[1])\n",
    "    writer.writerow(line[2])"
   ]
  },
  {
   "cell_type": "code",
   "execution_count": null,
   "id": "d70d7ee0",
   "metadata": {
    "papermill": {
     "duration": 0.002194,
     "end_time": "2021-11-04T00:51:25.329813",
     "exception": false,
     "start_time": "2021-11-04T00:51:25.327619",
     "status": "completed"
    },
    "tags": []
   },
   "outputs": [],
   "source": []
  }
 ],
 "metadata": {
  "celltoolbar": "Tags",
  "kernelspec": {
   "display_name": "Python 3",
   "language": "python",
   "name": "python3"
  },
  "language_info": {
   "codemirror_mode": {
    "name": "ipython",
    "version": 3
   },
   "file_extension": ".py",
   "mimetype": "text/x-python",
   "name": "python",
   "nbconvert_exporter": "python",
   "pygments_lexer": "ipython3",
   "version": "3.8.12"
  },
  "papermill": {
   "duration": 0.858679,
   "end_time": "2021-11-04T00:51:25.535968",
   "exception": null,
   "input_path": "/tmp/tmpa7dn2p0k.ipynb",
   "output_path": "/home/jovyan/csv_pipeline/output/log_code_A.ipynb",
   "parameters": {
    "input_csv": "input_data/sample_utf8.csv",
    "product": {
     "data": "/home/jovyan/csv_pipeline/output/output_A.csv",
     "nb": "/home/jovyan/csv_pipeline/output/log_code_A.ipynb"
    }
   },
   "start_time": "2021-11-04T00:51:24.677289"
  }
 },
 "nbformat": 4,
 "nbformat_minor": 5
}