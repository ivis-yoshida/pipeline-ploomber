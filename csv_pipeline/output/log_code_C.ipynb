{
 "cells": [
  {
   "cell_type": "code",
   "execution_count": 1,
   "id": "714824e3",
   "metadata": {
    "execution": {
     "iopub.execute_input": "2021-11-04T00:51:26.970679Z",
     "iopub.status.busy": "2021-11-04T00:51:26.970320Z",
     "iopub.status.idle": "2021-11-04T00:51:26.971590Z",
     "shell.execute_reply": "2021-11-04T00:51:26.971878Z"
    },
    "papermill": {
     "duration": 0.006522,
     "end_time": "2021-11-04T00:51:26.971988",
     "exception": false,
     "start_time": "2021-11-04T00:51:26.965466",
     "status": "completed"
    },
    "tags": [
     "parameters"
    ]
   },
   "outputs": [],
   "source": [
    "upstream =['code_A', 'code_B']\n",
    "product = None"
   ]
  },
  {
   "cell_type": "code",
   "execution_count": 2,
   "id": "62d8e0cb",
   "metadata": {
    "execution": {
     "iopub.execute_input": "2021-11-04T00:51:26.978845Z",
     "iopub.status.busy": "2021-11-04T00:51:26.978494Z",
     "iopub.status.idle": "2021-11-04T00:51:26.980125Z",
     "shell.execute_reply": "2021-11-04T00:51:26.979824Z"
    },
    "papermill": {
     "duration": 0.005936,
     "end_time": "2021-11-04T00:51:26.980192",
     "exception": false,
     "start_time": "2021-11-04T00:51:26.974256",
     "status": "completed"
    },
    "tags": [
     "injected-parameters"
    ]
   },
   "outputs": [],
   "source": [
    "# Parameters\n",
    "upstream = {\n",
    "    \"code_B\": {\n",
    "        \"nb\": \"/home/jovyan/csv_pipeline/output/log_code_B.ipynb\",\n",
    "        \"data\": \"/home/jovyan/csv_pipeline/output/output_B.csv\",\n",
    "    },\n",
    "    \"code_A\": {\n",
    "        \"nb\": \"/home/jovyan/csv_pipeline/output/log_code_A.ipynb\",\n",
    "        \"data\": \"/home/jovyan/csv_pipeline/output/output_A.csv\",\n",
    "    },\n",
    "}\n",
    "product = {\n",
    "    \"nb\": \"/home/jovyan/csv_pipeline/output/log_code_C.ipynb\",\n",
    "    \"data\": \"/home/jovyan/csv_pipeline/output/output_C.csv\",\n",
    "}\n"
   ]
  },
  {
   "cell_type": "code",
   "execution_count": 3,
   "id": "71a0821e",
   "metadata": {
    "execution": {
     "iopub.execute_input": "2021-11-04T00:51:26.988476Z",
     "iopub.status.busy": "2021-11-04T00:51:26.988113Z",
     "iopub.status.idle": "2021-11-04T00:51:26.990724Z",
     "shell.execute_reply": "2021-11-04T00:51:26.991011Z"
    },
    "papermill": {
     "duration": 0.008894,
     "end_time": "2021-11-04T00:51:26.991090",
     "exception": false,
     "start_time": "2021-11-04T00:51:26.982196",
     "status": "completed"
    },
    "tags": []
   },
   "outputs": [],
   "source": [
    "import os\n",
    "import csv\n",
    "\n",
    "with open(upstream['code_A']['data'], 'r') as f:\n",
    "    reader = csv.reader(f)\n",
    "    line_a = [row for row in reader]\n",
    "\n",
    "with open(upstream['code_B']['data'], 'r') as f:\n",
    "    reader = csv.reader(f, delimiter='｜')\n",
    "    line_b = [row for row in reader]\n",
    "\n",
    "with open(product['data'], mode='w') as f:\n",
    "    writer = csv.writer(f, delimiter='／')\n",
    "    writer.writerows(line_b)\n",
    "    writer.writerow(line_a[2])\n",
    "    writer.writerow([13101,\"1010032\",\"ﾄｳｷｮｳﾄ\",\"ﾁﾖﾀﾞｸ\",\"ｲﾜﾓﾄﾁｮｳ\",\"東京都\",\"千代田区\",\"岩本町\"])"
   ]
  },
  {
   "cell_type": "code",
   "execution_count": null,
   "id": "2fca5c87",
   "metadata": {
    "papermill": {
     "duration": 0.002088,
     "end_time": "2021-11-04T00:51:26.995442",
     "exception": false,
     "start_time": "2021-11-04T00:51:26.993354",
     "status": "completed"
    },
    "tags": []
   },
   "outputs": [],
   "source": []
  }
 ],
 "metadata": {
  "celltoolbar": "Tags",
  "kernelspec": {
   "display_name": "Python 3",
   "language": "python",
   "name": "python3"
  },
  "language_info": {
   "codemirror_mode": {
    "name": "ipython",
    "version": 3
   },
   "file_extension": ".py",
   "mimetype": "text/x-python",
   "name": "python",
   "nbconvert_exporter": "python",
   "pygments_lexer": "ipython3",
   "version": "3.8.12"
  },
  "papermill": {
   "duration": 0.816285,
   "end_time": "2021-11-04T00:51:27.201633",
   "exception": null,
   "input_path": "/tmp/tmpvs3lm4oo.ipynb",
   "output_path": "/home/jovyan/csv_pipeline/output/log_code_C.ipynb",
   "parameters": {
    "product": {
     "data": "/home/jovyan/csv_pipeline/output/output_C.csv",
     "nb": "/home/jovyan/csv_pipeline/output/log_code_C.ipynb"
    },
    "upstream": {
     "code_A": {
      "data": "/home/jovyan/csv_pipeline/output/output_A.csv",
      "nb": "/home/jovyan/csv_pipeline/output/log_code_A.ipynb"
     },
     "code_B": {
      "data": "/home/jovyan/csv_pipeline/output/output_B.csv",
      "nb": "/home/jovyan/csv_pipeline/output/log_code_B.ipynb"
     }
    }
   },
   "start_time": "2021-11-04T00:51:26.385348"
  }
 },
 "nbformat": 4,
 "nbformat_minor": 5
}