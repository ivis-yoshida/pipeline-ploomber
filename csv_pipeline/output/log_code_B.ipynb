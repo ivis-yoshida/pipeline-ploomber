{
 "cells": [
  {
   "cell_type": "code",
   "execution_count": 1,
   "id": "74e3dabb",
   "metadata": {
    "execution": {
     "iopub.execute_input": "2021-11-04T00:51:26.129308Z",
     "iopub.status.busy": "2021-11-04T00:51:26.128846Z",
     "iopub.status.idle": "2021-11-04T00:51:26.130804Z",
     "shell.execute_reply": "2021-11-04T00:51:26.130422Z"
    },
    "papermill": {
     "duration": 0.007959,
     "end_time": "2021-11-04T00:51:26.130907",
     "exception": false,
     "start_time": "2021-11-04T00:51:26.122948",
     "status": "completed"
    },
    "tags": [
     "parameters"
    ]
   },
   "outputs": [],
   "source": [
    "upstream =['code_A']\n",
    "product = None"
   ]
  },
  {
   "cell_type": "code",
   "execution_count": 2,
   "id": "71dc7c0e",
   "metadata": {
    "execution": {
     "iopub.execute_input": "2021-11-04T00:51:26.138082Z",
     "iopub.status.busy": "2021-11-04T00:51:26.137689Z",
     "iopub.status.idle": "2021-11-04T00:51:26.139096Z",
     "shell.execute_reply": "2021-11-04T00:51:26.139400Z"
    },
    "papermill": {
     "duration": 0.006254,
     "end_time": "2021-11-04T00:51:26.139490",
     "exception": false,
     "start_time": "2021-11-04T00:51:26.133236",
     "status": "completed"
    },
    "tags": [
     "injected-parameters"
    ]
   },
   "outputs": [],
   "source": [
    "# Parameters\n",
    "upstream = {\n",
    "    \"code_A\": {\n",
    "        \"nb\": \"/home/jovyan/csv_pipeline/output/log_code_A.ipynb\",\n",
    "        \"data\": \"/home/jovyan/csv_pipeline/output/output_A.csv\",\n",
    "    }\n",
    "}\n",
    "product = {\n",
    "    \"nb\": \"/home/jovyan/csv_pipeline/output/log_code_B.ipynb\",\n",
    "    \"data\": \"/home/jovyan/csv_pipeline/output/output_B.csv\",\n",
    "}\n"
   ]
  },
  {
   "cell_type": "code",
   "execution_count": 3,
   "id": "efb2e607",
   "metadata": {
    "execution": {
     "iopub.execute_input": "2021-11-04T00:51:26.147251Z",
     "iopub.status.busy": "2021-11-04T00:51:26.146856Z",
     "iopub.status.idle": "2021-11-04T00:51:26.149572Z",
     "shell.execute_reply": "2021-11-04T00:51:26.149913Z"
    },
    "papermill": {
     "duration": 0.008272,
     "end_time": "2021-11-04T00:51:26.150007",
     "exception": false,
     "start_time": "2021-11-04T00:51:26.141735",
     "status": "completed"
    },
    "tags": []
   },
   "outputs": [],
   "source": [
    "import os\n",
    "import csv\n",
    "\n",
    "with open(upstream['code_A']['data'], 'r') as f:\n",
    "    line = [row for row in csv.reader(f)]\n",
    "\n",
    "with open(product['data'], mode='w') as f:\n",
    "    writer = csv.writer(f, delimiter='｜')\n",
    "    writer.writerows(line)"
   ]
  },
  {
   "cell_type": "code",
   "execution_count": null,
   "id": "9fea4259",
   "metadata": {
    "papermill": {
     "duration": 0.003159,
     "end_time": "2021-11-04T00:51:26.159309",
     "exception": false,
     "start_time": "2021-11-04T00:51:26.156150",
     "status": "completed"
    },
    "tags": []
   },
   "outputs": [],
   "source": []
  }
 ],
 "metadata": {
  "celltoolbar": "Tags",
  "kernelspec": {
   "display_name": "Python 3",
   "language": "python",
   "name": "python3"
  },
  "language_info": {
   "codemirror_mode": {
    "name": "ipython",
    "version": 3
   },
   "file_extension": ".py",
   "mimetype": "text/x-python",
   "name": "python",
   "nbconvert_exporter": "python",
   "pygments_lexer": "ipython3",
   "version": "3.8.12"
  },
  "papermill": {
   "duration": 0.823286,
   "end_time": "2021-11-04T00:51:26.369258",
   "exception": null,
   "input_path": "/tmp/tmponwtja2o.ipynb",
   "output_path": "/home/jovyan/csv_pipeline/output/log_code_B.ipynb",
   "parameters": {
    "product": {
     "data": "/home/jovyan/csv_pipeline/output/output_B.csv",
     "nb": "/home/jovyan/csv_pipeline/output/log_code_B.ipynb"
    },
    "upstream": {
     "code_A": {
      "data": "/home/jovyan/csv_pipeline/output/output_A.csv",
      "nb": "/home/jovyan/csv_pipeline/output/log_code_A.ipynb"
     }
    }
   },
   "start_time": "2021-11-04T00:51:25.545972"
  }
 },
 "nbformat": 4,
 "nbformat_minor": 5
}